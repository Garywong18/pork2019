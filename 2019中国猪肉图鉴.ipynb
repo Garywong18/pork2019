{
 "cells": [
  {
   "cell_type": "code",
   "execution_count": 1,
   "metadata": {},
   "outputs": [],
   "source": [
    "import pandas as pd\n",
    "import numpy as np\n",
    "import matplotlib.pyplot as plt\n",
    "import seaborn as sns\n",
    "import warnings\n",
    "warnings.filterwarnings('ignore')\n",
    "%matplotlib inline"
   ]
  },
  {
   "cell_type": "code",
   "execution_count": 2,
   "metadata": {},
   "outputs": [
    {
     "name": "stdout",
     "output_type": "stream",
     "text": [
      "<class 'pandas.core.frame.DataFrame'>\n",
      "RangeIndex: 58179 entries, 0 to 58178\n",
      "Data columns (total 4 columns):\n",
      "publish_date    58179 non-null object\n",
      "province        58179 non-null object\n",
      "city            58170 non-null object\n",
      "price           58179 non-null object\n",
      "dtypes: object(4)\n",
      "memory usage: 1.8+ MB\n"
     ]
    }
   ],
   "source": [
    "pork = pd.read_csv('E:/datas/pork.csv')\n",
    "pork.info()"
   ]
  },
  {
   "cell_type": "code",
   "execution_count": 3,
   "metadata": {},
   "outputs": [
    {
     "data": {
      "text/html": [
       "<div>\n",
       "<style scoped>\n",
       "    .dataframe tbody tr th:only-of-type {\n",
       "        vertical-align: middle;\n",
       "    }\n",
       "\n",
       "    .dataframe tbody tr th {\n",
       "        vertical-align: top;\n",
       "    }\n",
       "\n",
       "    .dataframe thead th {\n",
       "        text-align: right;\n",
       "    }\n",
       "</style>\n",
       "<table border=\"1\" class=\"dataframe\">\n",
       "  <thead>\n",
       "    <tr style=\"text-align: right;\">\n",
       "      <th></th>\n",
       "      <th>publish_date</th>\n",
       "      <th>province</th>\n",
       "      <th>city</th>\n",
       "      <th>price</th>\n",
       "    </tr>\n",
       "  </thead>\n",
       "  <tbody>\n",
       "    <tr>\n",
       "      <th>0</th>\n",
       "      <td>2019-11-15 08:40:06</td>\n",
       "      <td>河南省</td>\n",
       "      <td>梁园区</td>\n",
       "      <td>55.00</td>\n",
       "    </tr>\n",
       "    <tr>\n",
       "      <th>1</th>\n",
       "      <td>2019-11-15 08:40:06</td>\n",
       "      <td>山西省</td>\n",
       "      <td>绛县</td>\n",
       "      <td>52.00</td>\n",
       "    </tr>\n",
       "    <tr>\n",
       "      <th>58176</th>\n",
       "      <td>2018-12-01 08:35:17</td>\n",
       "      <td>黑龙江</td>\n",
       "      <td>海伦市</td>\n",
       "      <td>16.00</td>\n",
       "    </tr>\n",
       "    <tr>\n",
       "      <th>58177</th>\n",
       "      <td>2018-12-01 08:35:17</td>\n",
       "      <td>湖北省</td>\n",
       "      <td>大冶市</td>\n",
       "      <td>16.00</td>\n",
       "    </tr>\n",
       "    <tr>\n",
       "      <th>58178</th>\n",
       "      <td>2018-12-01 08:35:17</td>\n",
       "      <td>湖北省</td>\n",
       "      <td>浠水县</td>\n",
       "      <td>26.00</td>\n",
       "    </tr>\n",
       "  </tbody>\n",
       "</table>\n",
       "</div>"
      ],
      "text/plain": [
       "              publish_date province  city  price\n",
       "0      2019-11-15 08:40:06      河南省   梁园区  55.00\n",
       "1      2019-11-15 08:40:06      山西省    绛县  52.00\n",
       "58176  2018-12-01 08:35:17     黑龙江   海伦市   16.00\n",
       "58177  2018-12-01 08:35:17     湖北省   大冶市   16.00\n",
       "58178  2018-12-01 08:35:17     湖北省   浠水县   26.00"
      ]
     },
     "execution_count": 3,
     "metadata": {},
     "output_type": "execute_result"
    }
   ],
   "source": [
    "pork.head(2).append(pork.tail(3))"
   ]
  },
  {
   "cell_type": "markdown",
   "metadata": {},
   "source": [
    "### 数据清洗"
   ]
  },
  {
   "cell_type": "markdown",
   "metadata": {},
   "source": [
    "#### 1.空值处理"
   ]
  },
  {
   "cell_type": "code",
   "execution_count": 4,
   "metadata": {},
   "outputs": [],
   "source": [
    "# city有9个空值，我们将这9列直接删除\n",
    "pork.dropna(axis=0,how='any',inplace=True)"
   ]
  },
  {
   "cell_type": "code",
   "execution_count": 5,
   "metadata": {},
   "outputs": [
    {
     "data": {
      "text/plain": [
       "(58170, 4)"
      ]
     },
     "execution_count": 5,
     "metadata": {},
     "output_type": "execute_result"
    }
   ],
   "source": [
    "pork.shape"
   ]
  },
  {
   "cell_type": "markdown",
   "metadata": {},
   "source": [
    "#### 2.字段属性转化"
   ]
  },
  {
   "cell_type": "code",
   "execution_count": 6,
   "metadata": {},
   "outputs": [
    {
     "data": {
      "text/plain": [
       "9"
      ]
     },
     "execution_count": 6,
     "metadata": {},
     "output_type": "execute_result"
    }
   ],
   "source": [
    "# 1.将publish_date转化为datetime格式\n",
    "# pork['publish_date'] = pd.to_datetime(pork['publish_date'],format='%Y-%m-%d %H:%M:%S')\n",
    "# 时间格式不统一，所以没办法用to_datetime一次转换\n",
    "# 看看存在什么特殊格式\n",
    "from datetime import datetime\n",
    "from dateutil.parser import parse\n",
    "def switch_time(x):\n",
    "    x = x.split(' ')\n",
    "    if len(x) == 2:\n",
    "        return False\n",
    "    else:\n",
    "        return True\n",
    "# 有几个特殊格式\n",
    "pork['publish_date'].apply(switch_time).sum()"
   ]
  },
  {
   "cell_type": "code",
   "execution_count": 7,
   "metadata": {},
   "outputs": [
    {
     "data": {
      "text/plain": [
       "8181     publish_date\n",
       "16363    publish_date\n",
       "24545    publish_date\n",
       "25227    publish_date\n",
       "26882    publish_date\n",
       "28537    publish_date\n",
       "30192    publish_date\n",
       "38967    publish_date\n",
       "47742    publish_date\n",
       "Name: publish_date, dtype: object"
      ]
     },
     "execution_count": 7,
     "metadata": {},
     "output_type": "execute_result"
    }
   ],
   "source": [
    "# 特殊格式什么样\n",
    "pork['publish_date'][pork['publish_date'].apply(switch_time)]"
   ]
  },
  {
   "cell_type": "code",
   "execution_count": 8,
   "metadata": {},
   "outputs": [
    {
     "data": {
      "text/plain": [
       "(58161, 4)"
      ]
     },
     "execution_count": 8,
     "metadata": {},
     "output_type": "execute_result"
    }
   ],
   "source": [
    "# 将这几个特殊格式剔除\n",
    "pork = pork.query(\"publish_date!='publish_date'\")\n",
    "pork.shape"
   ]
  },
  {
   "cell_type": "code",
   "execution_count": 9,
   "metadata": {},
   "outputs": [],
   "source": [
    "# 再次转换试试\n",
    "def switch_time(x):\n",
    "    x = x.split(' ')\n",
    "    x = datetime.strptime(x[0],'%Y-%m-%d')\n",
    "    return x\n",
    "pork['publish_date'] = pork['publish_date'].apply(switch_time)"
   ]
  },
  {
   "cell_type": "code",
   "execution_count": 10,
   "metadata": {},
   "outputs": [],
   "source": [
    "# 将价格转化为float\n",
    "def switch_price(x):\n",
    "    return float(x)\n",
    "pork['price'] = pork['price'].apply(switch_price)"
   ]
  },
  {
   "cell_type": "code",
   "execution_count": 11,
   "metadata": {},
   "outputs": [
    {
     "data": {
      "text/plain": [
       "array(['河南省', '山西省', '河北省', '湖北省', '甘肃省', '天津市', '云南省', '黑龙江', '山东省',\n",
       "       '贵州省', '福建省', '重庆市', '吉林省', '新疆', '湖南省', '四川省', '辽宁省', '江西省',\n",
       "       '江苏省', '陕西省', '黑龙江省', '北京市', '广东省', '安徽省', '内蒙古', '浙江省', '广西',\n",
       "       '宁夏', '青海省', '海南省', '上海市', '甘肃省\\xa0', '广东省\\xa0', '河北省\\xa0',\n",
       "       '河南省\\xa0', '黑龙江\\xa0', '山西省\\xa0', '山东省\\xa0', '吉林省\\xa0', '新疆\\xa0',\n",
       "       '湖南省\\xa0', '湖北省\\xa0', '云南省\\xa0', '四川省\\xa0', '江苏省\\xa0', '福建省\\xa0',\n",
       "       '辽宁省\\xa0', '浙江省\\xa0', '重庆市\\xa0', '陕西省\\xa0', '天津市\\xa0', '内蒙古\\xa0',\n",
       "       '安徽省\\xa0', '广西\\xa0', '江西省\\xa0', '宁夏\\xa0', '贵州省\\xa0', '黑龙江省\\xa0',\n",
       "       '北京市\\xa0', '海南省\\xa0', '广西壮族自治区\\xa0'], dtype=object)"
      ]
     },
     "execution_count": 11,
     "metadata": {},
     "output_type": "execute_result"
    }
   ],
   "source": [
    "# 看看省份是否统一\n",
    "pork['province'].unique()"
   ]
  },
  {
   "cell_type": "code",
   "execution_count": 12,
   "metadata": {},
   "outputs": [],
   "source": [
    "# 将省份格式统一\n",
    "def switch_province(x):\n",
    "    return x.strip('\\xa0')\n",
    "pork['province'] = pork['province'].apply(switch_province)"
   ]
  },
  {
   "cell_type": "code",
   "execution_count": 13,
   "metadata": {},
   "outputs": [
    {
     "data": {
      "text/plain": [
       "array(['河南省', '山西省', '河北省', '湖北省', '甘肃省', '天津市', '云南省', '黑龙江', '山东省',\n",
       "       '贵州省', '福建省', '重庆市', '吉林省', '新疆', '湖南省', '四川省', '辽宁省', '江西省',\n",
       "       '江苏省', '陕西省', '黑龙江省', '北京市', '广东省', '安徽省', '内蒙古', '浙江省', '广西',\n",
       "       '宁夏', '青海省', '海南省', '上海市', '广西壮族自治区'], dtype=object)"
      ]
     },
     "execution_count": 13,
     "metadata": {},
     "output_type": "execute_result"
    }
   ],
   "source": [
    "pork['province'].unique()"
   ]
  },
  {
   "cell_type": "code",
   "execution_count": 14,
   "metadata": {},
   "outputs": [],
   "source": [
    "# 广西和广西壮族自治区重复,黑龙江省和黑龙江重复\n",
    "def switch_province2(x):\n",
    "    if x == '广西壮族自治区':\n",
    "        x = '广西'\n",
    "    return x\n",
    "def switch_province3(x):\n",
    "    if x == '黑龙江':\n",
    "        x = '黑龙江省'\n",
    "    return x\n",
    "pork['province'] = pork['province'].apply(switch_province2)\n",
    "pork['province'] = pork['province'].apply(switch_province3)"
   ]
  },
  {
   "cell_type": "code",
   "execution_count": 15,
   "metadata": {
    "scrolled": true
   },
   "outputs": [
    {
     "data": {
      "text/plain": [
       "array(['梁园区', '绛县', '南乐县', ..., '古浪县\\xa0', '上蔡县\\xa0', '淮阳县\\xa0'],\n",
       "      dtype=object)"
      ]
     },
     "execution_count": 15,
     "metadata": {},
     "output_type": "execute_result"
    }
   ],
   "source": [
    "# 看看城市有什么特殊格式\n",
    "pork['city'].unique()"
   ]
  },
  {
   "cell_type": "code",
   "execution_count": 16,
   "metadata": {},
   "outputs": [],
   "source": [
    "# 将城市格式统一\n",
    "def switch_city(x):\n",
    "    return x.strip('\\xa0')\n",
    "pork['city'] = pork['city'].apply(switch_city)"
   ]
  },
  {
   "cell_type": "markdown",
   "metadata": {},
   "source": [
    "### 数据探索"
   ]
  },
  {
   "cell_type": "code",
   "execution_count": 17,
   "metadata": {},
   "outputs": [
    {
     "data": {
      "text/plain": [
       "0    2019\n",
       "1    2019\n",
       "2    2019\n",
       "Name: year, dtype: int64"
      ]
     },
     "execution_count": 17,
     "metadata": {},
     "output_type": "execute_result"
    }
   ],
   "source": [
    "# 新增year\n",
    "pork['year'] = pork['publish_date'].apply(lambda x:x.year)\n",
    "pork['year'][:3]"
   ]
  },
  {
   "cell_type": "code",
   "execution_count": 18,
   "metadata": {},
   "outputs": [
    {
     "data": {
      "text/plain": [
       "0   2019-11-01\n",
       "1   2019-11-01\n",
       "2   2019-11-01\n",
       "3   2019-11-01\n",
       "4   2019-11-01\n",
       "Name: month, dtype: datetime64[ns]"
      ]
     },
     "execution_count": 18,
     "metadata": {},
     "output_type": "execute_result"
    }
   ],
   "source": [
    "# 调大时间颗粒度，新增月份\n",
    "pork['month'] = pork['publish_date'].values.astype('datetime64[M]')\n",
    "pork['month'][:5]"
   ]
  },
  {
   "cell_type": "code",
   "execution_count": 19,
   "metadata": {},
   "outputs": [
    {
     "data": {
      "text/plain": [
       "(30, 6)"
      ]
     },
     "execution_count": 19,
     "metadata": {},
     "output_type": "execute_result"
    }
   ],
   "source": [
    "pork.query('year==2018').shape"
   ]
  },
  {
   "cell_type": "code",
   "execution_count": 20,
   "metadata": {},
   "outputs": [],
   "source": [
    "# 2018年只有30条数据，这里先删除不做分析\n",
    "pork = pork.query('year==2019')"
   ]
  },
  {
   "cell_type": "code",
   "execution_count": 21,
   "metadata": {},
   "outputs": [
    {
     "data": {
      "text/plain": [
       "array(['2019-11-01T00:00:00.000000000', '2019-10-01T00:00:00.000000000',\n",
       "       '2019-09-01T00:00:00.000000000', '2019-08-01T00:00:00.000000000',\n",
       "       '2019-07-01T00:00:00.000000000', '2019-06-01T00:00:00.000000000',\n",
       "       '2019-05-01T00:00:00.000000000', '2019-04-01T00:00:00.000000000',\n",
       "       '2019-03-01T00:00:00.000000000', '2019-01-01T00:00:00.000000000'],\n",
       "      dtype='datetime64[ns]')"
      ]
     },
     "execution_count": 21,
     "metadata": {},
     "output_type": "execute_result"
    }
   ],
   "source": [
    "# 看看2019年总共有多少月的数据\n",
    "pork['month'].unique()"
   ]
  },
  {
   "cell_type": "markdown",
   "metadata": {},
   "source": [
    "#### 1.看看整年全国猪肉价格走势"
   ]
  },
  {
   "cell_type": "code",
   "execution_count": 22,
   "metadata": {},
   "outputs": [
    {
     "data": {
      "text/html": [
       "<div>\n",
       "<style scoped>\n",
       "    .dataframe tbody tr th:only-of-type {\n",
       "        vertical-align: middle;\n",
       "    }\n",
       "\n",
       "    .dataframe tbody tr th {\n",
       "        vertical-align: top;\n",
       "    }\n",
       "\n",
       "    .dataframe thead th {\n",
       "        text-align: right;\n",
       "    }\n",
       "</style>\n",
       "<table border=\"1\" class=\"dataframe\">\n",
       "  <thead>\n",
       "    <tr style=\"text-align: right;\">\n",
       "      <th></th>\n",
       "      <th>price</th>\n",
       "    </tr>\n",
       "    <tr>\n",
       "      <th>month</th>\n",
       "      <th></th>\n",
       "    </tr>\n",
       "  </thead>\n",
       "  <tbody>\n",
       "    <tr>\n",
       "      <th>2019-01-01</th>\n",
       "      <td>16.048649</td>\n",
       "    </tr>\n",
       "    <tr>\n",
       "      <th>2019-03-01</th>\n",
       "      <td>20.410526</td>\n",
       "    </tr>\n",
       "    <tr>\n",
       "      <th>2019-04-01</th>\n",
       "      <td>20.873913</td>\n",
       "    </tr>\n",
       "    <tr>\n",
       "      <th>2019-05-01</th>\n",
       "      <td>21.512488</td>\n",
       "    </tr>\n",
       "    <tr>\n",
       "      <th>2019-06-01</th>\n",
       "      <td>22.472946</td>\n",
       "    </tr>\n",
       "    <tr>\n",
       "      <th>2019-07-01</th>\n",
       "      <td>24.686880</td>\n",
       "    </tr>\n",
       "    <tr>\n",
       "      <th>2019-08-01</th>\n",
       "      <td>30.639434</td>\n",
       "    </tr>\n",
       "    <tr>\n",
       "      <th>2019-09-01</th>\n",
       "      <td>35.097863</td>\n",
       "    </tr>\n",
       "    <tr>\n",
       "      <th>2019-10-01</th>\n",
       "      <td>43.573434</td>\n",
       "    </tr>\n",
       "    <tr>\n",
       "      <th>2019-11-01</th>\n",
       "      <td>47.556325</td>\n",
       "    </tr>\n",
       "  </tbody>\n",
       "</table>\n",
       "</div>"
      ],
      "text/plain": [
       "                price\n",
       "month                \n",
       "2019-01-01  16.048649\n",
       "2019-03-01  20.410526\n",
       "2019-04-01  20.873913\n",
       "2019-05-01  21.512488\n",
       "2019-06-01  22.472946\n",
       "2019-07-01  24.686880\n",
       "2019-08-01  30.639434\n",
       "2019-09-01  35.097863\n",
       "2019-10-01  43.573434\n",
       "2019-11-01  47.556325"
      ]
     },
     "execution_count": 22,
     "metadata": {},
     "output_type": "execute_result"
    }
   ],
   "source": [
    "year_price_table = pork.pivot_table(index='month',values='price',aggfunc='mean')\n",
    "year_price_table"
   ]
  },
  {
   "cell_type": "code",
   "execution_count": 23,
   "metadata": {},
   "outputs": [
    {
     "data": {
      "image/png": "[encoded data removed]",
      "text/plain": [
       "<Figure size 432x288 with 1 Axes>"
      ]
     },
     "metadata": {},
     "output_type": "display_data"
    }
   ],
   "source": [
    "plt.rcParams['font.family'] = 'SimHei'\n",
    "plt.plot(year_price_table)\n",
    "plt.xticks(rotation=45)\n",
    "plt.xlabel('月份')\n",
    "plt.ylabel('价格：元/千克')\n",
    "plt.title('2019猪肉价格走势图')\n",
    "plt.savefig('2019猪肉价格走势图.jpg')"
   ]
  },
  {
   "cell_type": "markdown",
   "metadata": {},
   "source": [
    "#### 2.看看十一月份猪肉价格走势"
   ]
  },
  {
   "cell_type": "code",
   "execution_count": 24,
   "metadata": {
    "scrolled": true
   },
   "outputs": [],
   "source": [
    "price_month_11 = pork.query(\"month==Timestamp('2019-11-01 00:00:00')\").pivot_table(index='publish_date',values='price',aggfunc='mean')\n",
    "#price_month_11"
   ]
  },
  {
   "cell_type": "code",
   "execution_count": 25,
   "metadata": {},
   "outputs": [
    {
     "data": {
      "image/png": "[encoded data removed]",
      "text/plain": [
       "<Figure size 432x288 with 1 Axes>"
      ]
     },
     "metadata": {},
     "output_type": "display_data"
    }
   ],
   "source": [
    "plt.plot(price_month_11)\n",
    "plt.xticks(rotation=45)\n",
    "plt.xlabel('日期')\n",
    "plt.ylabel('价格：元/千克')\n",
    "plt.title('十一月份猪肉价格走势图')\n",
    "plt.savefig('十一月份猪肉价格走势图.jpg')"
   ]
  },
  {
   "cell_type": "markdown",
   "metadata": {},
   "source": [
    "#### 3.看看哪些城市猪肉最贵"
   ]
  },
  {
   "cell_type": "code",
   "execution_count": 26,
   "metadata": {},
   "outputs": [
    {
     "data": {
      "text/plain": [
       "province  city\n",
       "新疆        巩留县     60.0\n",
       "山西省       壶关县     56.0\n",
       "河南省       平舆县     56.0\n",
       "四川省       东坡区     54.0\n",
       "山西省       长治县     52.0\n",
       "河北省       新乐市     52.0\n",
       "湖南省       溆浦县     52.0\n",
       "山东省       冠县      50.0\n",
       "河南省       卧龙区     50.0\n",
       "          柘城县     50.0\n",
       "Name: price, dtype: float64"
      ]
     },
     "execution_count": 26,
     "metadata": {},
     "output_type": "execute_result"
    }
   ],
   "source": [
    "top_10 = pork.query(\"publish_date==Timestamp('2019-11-28 00:00:00')\").groupby(['province','city']).price.mean().sort_values(ascending=False)[:10]\n",
    "top_10"
   ]
  },
  {
   "cell_type": "code",
   "execution_count": 27,
   "metadata": {},
   "outputs": [
    {
     "data": {
      "image/png": "[encoded data removed]",
      "text/plain": [
       "<Figure size 432x288 with 1 Axes>"
      ]
     },
     "metadata": {},
     "output_type": "display_data"
    }
   ],
   "source": [
    "top_10.plot.barh()\n",
    "plt.xlabel('价格:元/千克')\n",
    "plt.title('全国猪肉价格top10')\n",
    "plt.savefig('全国猪肉价格top10.jpg')"
   ]
  },
  {
   "cell_type": "markdown",
   "metadata": {},
   "source": [
    "#### 4.看看哪些城市猪肉最便宜"
   ]
  },
  {
   "cell_type": "code",
   "execution_count": 28,
   "metadata": {},
   "outputs": [
    {
     "data": {
      "text/plain": [
       "province  city\n",
       "河南省       潢川县     31.0\n",
       "山东省       嘉祥县     33.0\n",
       "天津市       宁河区     33.6\n",
       "湖北省       大冶市     34.0\n",
       "内蒙古       敖汉旗区    35.8\n",
       "云南省       祥云县     38.0\n",
       "吉林省       长岭县     38.0\n",
       "山东省       高青县     39.0\n",
       "          郓城县     39.0\n",
       "河南省       南乐县     39.0\n",
       "Name: price, dtype: float64"
      ]
     },
     "execution_count": 28,
     "metadata": {},
     "output_type": "execute_result"
    }
   ],
   "source": [
    "tail_10 =  pork.query(\"publish_date==Timestamp('2019-11-28 00:00:00')\").groupby(['province','city']).price.mean().sort_values(ascending=True)[:10]\n",
    "tail_10"
   ]
  },
  {
   "cell_type": "code",
   "execution_count": 29,
   "metadata": {},
   "outputs": [
    {
     "data": {
      "image/png": "[encoded data removed]",
      "text/plain": [
       "<Figure size 432x288 with 1 Axes>"
      ]
     },
     "metadata": {},
     "output_type": "display_data"
    }
   ],
   "source": [
    "tail_10.plot.barh()\n",
    "plt.xlabel('价格:元/千克')\n",
    "plt.title('全国猪肉价格tail10')\n",
    "plt.savefig('全国猪肉价格tail10.jpg')"
   ]
  },
  {
   "cell_type": "markdown",
   "metadata": {},
   "source": [
    "#### 5.看看各省十一月份猪肉均价"
   ]
  },
  {
   "cell_type": "code",
   "execution_count": 30,
   "metadata": {
    "scrolled": true
   },
   "outputs": [],
   "source": [
    "province_table = pork.query(\"month==Timestamp('2019-11-01 00:00:00')\").pivot_table(index='province',values='price',aggfunc='mean').sort_values('price',ascending=False)\n",
    "#province_table"
   ]
  },
  {
   "cell_type": "code",
   "execution_count": 31,
   "metadata": {},
   "outputs": [
    {
     "data": {
      "image/png": "[encoded data removed]",
      "text/plain": [
       "<Figure size 432x288 with 1 Axes>"
      ]
     },
     "metadata": {},
     "output_type": "display_data"
    }
   ],
   "source": [
    "province_table.plot.bar()\n",
    "plt.ylabel('price:元/千克')\n",
    "plt.title('十一月份全国各省猪肉价格')\n",
    "plt.savefig('十一月份全国各省猪肉价格.jpg')"
   ]
  },
  {
   "cell_type": "code",
   "execution_count": 32,
   "metadata": {
    "scrolled": true
   },
   "outputs": [],
   "source": [
    "# 将省份名字统一\n",
    "# 将价格保留2位小数\n",
    "province_list = [i.strip('省').strip('市') for i in list(province_table.index)]\n",
    "price_list = [round(i,2) for i in list(province_table.price)]\n",
    "#list(zip(province_list,price_list))"
   ]
  },
  {
   "cell_type": "code",
   "execution_count": 33,
   "metadata": {},
   "outputs": [
    {
     "data": {
      "text/html": [
       "\n",
       "<script>\n",
       "    require.config({\n",
       "        paths: {\n",
       "            'echarts':'https://assets.pyecharts.org/assets/echarts.min', 'china':'https://assets.pyecharts.org/assets/maps/china'\n",
       "        }\n",
       "    });\n",
       "</script>\n",
       "\n",
       "        <div id=\"a36dac72a4c04e3fa1efd35171a34d78\" style=\"width:900px; height:500px;\"></div>\n",
       "\n",
       "<script>\n",
       "        require(['echarts', 'china'], function(echarts) {\n",
       "                var chart_a36dac72a4c04e3fa1efd35171a34d78 = echarts.init(\n",
       "                    document.getElementById('a36dac72a4c04e3fa1efd35171a34d78'), 'white', {renderer: 'canvas'});\n",
       "                var option_a36dac72a4c04e3fa1efd35171a34d78 = {\n",
       "    \"animation\": true,\n",
       "    \"animationThreshold\": 2000,\n",
       "    \"animationDuration\": 1000,\n",
       "    \"animationEasing\": \"cubicOut\",\n",
       "    \"animationDelay\": 0,\n",
       "    \"animationDurationUpdate\": 300,\n",
       "    \"animationEasingUpdate\": \"cubicOut\",\n",
       "    \"animationDelayUpdate\": 0,\n",
       "    \"color\": [\n",
       "        \"#c23531\",\n",
       "        \"#2f4554\",\n",
       "        \"#61a0a8\",\n",
       "        \"#d48265\",\n",
       "        \"#749f83\",\n",
       "        \"#ca8622\",\n",
       "        \"#bda29a\",\n",
       "        \"#6e7074\",\n",
       "        \"#546570\",\n",
       "        \"#c4ccd3\",\n",
       "        \"#f05b72\",\n",
       "        \"#ef5b9c\",\n",
       "        \"#f47920\",\n",
       "        \"#905a3d\",\n",
       "        \"#fab27b\",\n",
       "        \"#2a5caa\",\n",
       "        \"#444693\",\n",
       "        \"#726930\",\n",
       "        \"#b2d235\",\n",
       "        \"#6d8346\",\n",
       "        \"#ac6767\",\n",
       "        \"#1d953f\",\n",
       "        \"#6950a1\",\n",
       "        \"#918597\"\n",
       "    ],\n",
       "    \"series\": [\n",
       "        {\n",
       "            \"type\": \"map\",\n",
       "            \"label\": {\n",
       "                \"show\": true,\n",
       "                \"position\": \"top\",\n",
       "                \"margin\": 8\n",
       "            },\n",
       "            \"mapType\": \"china\",\n",
       "            \"data\": [\n",
       "                {\n",
       "                    \"name\": \"\\u6c5f\\u897f\",\n",
       "                    \"value\": 54.08\n",
       "                },\n",
       "                {\n",
       "                    \"name\": \"\\u798f\\u5efa\",\n",
       "                    \"value\": 51.49\n",
       "                },\n",
       "                {\n",
       "                    \"name\": \"\\u5c71\\u897f\",\n",
       "                    \"value\": 51.03\n",
       "                },\n",
       "                {\n",
       "                    \"name\": \"\\u5e7f\\u897f\",\n",
       "                    \"value\": 50.25\n",
       "                },\n",
       "                {\n",
       "                    \"name\": \"\\u6e56\\u5357\",\n",
       "                    \"value\": 49.7\n",
       "                },\n",
       "                {\n",
       "                    \"name\": \"\\u5b89\\u5fbd\",\n",
       "                    \"value\": 49.51\n",
       "                },\n",
       "                {\n",
       "                    \"name\": \"\\u6c5f\\u82cf\",\n",
       "                    \"value\": 49.06\n",
       "                },\n",
       "                {\n",
       "                    \"name\": \"\\u6d59\\u6c5f\",\n",
       "                    \"value\": 48.9\n",
       "                },\n",
       "                {\n",
       "                    \"name\": \"\\u5e7f\\u4e1c\",\n",
       "                    \"value\": 48.89\n",
       "                },\n",
       "                {\n",
       "                    \"name\": \"\\u6cb3\\u5357\",\n",
       "                    \"value\": 48.73\n",
       "                },\n",
       "                {\n",
       "                    \"name\": \"\\u9ed1\\u9f99\\u6c5f\",\n",
       "                    \"value\": 48.73\n",
       "                },\n",
       "                {\n",
       "                    \"name\": \"\\u56db\\u5ddd\",\n",
       "                    \"value\": 48.5\n",
       "                },\n",
       "                {\n",
       "                    \"name\": \"\\u6d77\\u5357\",\n",
       "                    \"value\": 48.2\n",
       "                },\n",
       "                {\n",
       "                    \"name\": \"\\u65b0\\u7586\",\n",
       "                    \"value\": 47.94\n",
       "                },\n",
       "                {\n",
       "                    \"name\": \"\\u6cb3\\u5317\",\n",
       "                    \"value\": 47.89\n",
       "                },\n",
       "                {\n",
       "                    \"name\": \"\\u5c71\\u4e1c\",\n",
       "                    \"value\": 47.42\n",
       "                },\n",
       "                {\n",
       "                    \"name\": \"\\u7518\\u8083\",\n",
       "                    \"value\": 46.71\n",
       "                },\n",
       "                {\n",
       "                    \"name\": \"\\u9655\\u897f\",\n",
       "                    \"value\": 46.6\n",
       "                },\n",
       "                {\n",
       "                    \"name\": \"\\u8d35\\u5dde\",\n",
       "                    \"value\": 45.8\n",
       "                },\n",
       "                {\n",
       "                    \"name\": \"\\u8fbd\\u5b81\",\n",
       "                    \"value\": 45.15\n",
       "                },\n",
       "                {\n",
       "                    \"name\": \"\\u9752\\u6d77\",\n",
       "                    \"value\": 45.0\n",
       "                },\n",
       "                {\n",
       "                    \"name\": \"\\u6e56\\u5317\",\n",
       "                    \"value\": 44.66\n",
       "                },\n",
       "                {\n",
       "                    \"name\": \"\\u91cd\\u5e86\",\n",
       "                    \"value\": 44.65\n",
       "                },\n",
       "                {\n",
       "                    \"name\": \"\\u5929\\u6d25\",\n",
       "                    \"value\": 43.93\n",
       "                },\n",
       "                {\n",
       "                    \"name\": \"\\u4e91\\u5357\",\n",
       "                    \"value\": 43.14\n",
       "                },\n",
       "                {\n",
       "                    \"name\": \"\\u4e0a\\u6d77\",\n",
       "                    \"value\": 42.73\n",
       "                },\n",
       "                {\n",
       "                    \"name\": \"\\u5317\\u4eac\",\n",
       "                    \"value\": 41.92\n",
       "                },\n",
       "                {\n",
       "                    \"name\": \"\\u5185\\u8499\\u53e4\",\n",
       "                    \"value\": 41.38\n",
       "                },\n",
       "                {\n",
       "                    \"name\": \"\\u5b81\\u590f\",\n",
       "                    \"value\": 40.67\n",
       "                },\n",
       "                {\n",
       "                    \"name\": \"\\u5409\\u6797\",\n",
       "                    \"value\": 40.12\n",
       "                }\n",
       "            ],\n",
       "            \"roam\": true,\n",
       "            \"zoom\": 1,\n",
       "            \"showLegendSymbol\": true,\n",
       "            \"emphasis\": {}\n",
       "        }\n",
       "    ],\n",
       "    \"legend\": [\n",
       "        {\n",
       "            \"data\": [\n",
       "                \"\"\n",
       "            ],\n",
       "            \"selected\": {\n",
       "                \"\": true\n",
       "            },\n",
       "            \"show\": true\n",
       "        }\n",
       "    ],\n",
       "    \"tooltip\": {\n",
       "        \"show\": true,\n",
       "        \"trigger\": \"item\",\n",
       "        \"triggerOn\": \"mousemove|click\",\n",
       "        \"axisPointer\": {\n",
       "            \"type\": \"line\"\n",
       "        },\n",
       "        \"textStyle\": {\n",
       "            \"fontSize\": 14\n",
       "        },\n",
       "        \"borderWidth\": 0\n",
       "    },\n",
       "    \"title\": [\n",
       "        {\n",
       "            \"text\": \"\\u5341\\u4e00\\u6708\\u4efd\\u5168\\u56fd\\u732a\\u8089\\u4ef7\\u683c\\u5206\\u5e03\\u56fe\"\n",
       "        }\n",
       "    ],\n",
       "    \"toolbox\": {\n",
       "        \"show\": true,\n",
       "        \"orient\": \"horizontal\",\n",
       "        \"itemSize\": 15,\n",
       "        \"itemGap\": 10,\n",
       "        \"left\": \"80%\",\n",
       "        \"feature\": {\n",
       "            \"saveAsImage\": {\n",
       "                \"show\": true,\n",
       "                \"title\": \"save as image\",\n",
       "                \"type\": \"png\"\n",
       "            },\n",
       "            \"restore\": {\n",
       "                \"show\": true,\n",
       "                \"title\": \"restore\"\n",
       "            },\n",
       "            \"dataView\": {\n",
       "                \"show\": true,\n",
       "                \"title\": \"data view\",\n",
       "                \"readOnly\": false\n",
       "            },\n",
       "            \"dataZoom\": {\n",
       "                \"show\": true,\n",
       "                \"title\": {\n",
       "                    \"zoom\": \"data zoom\",\n",
       "                    \"back\": \"data zoom restore\"\n",
       "                }\n",
       "            }\n",
       "        }\n",
       "    },\n",
       "    \"visualMap\": {\n",
       "        \"show\": true,\n",
       "        \"type\": \"piecewise\",\n",
       "        \"min\": 40,\n",
       "        \"max\": 55,\n",
       "        \"inRange\": {\n",
       "            \"color\": [\n",
       "                \"#50a3ba\",\n",
       "                \"#eac763\",\n",
       "                \"#d94e5d\"\n",
       "            ]\n",
       "        },\n",
       "        \"calculable\": true,\n",
       "        \"splitNumber\": 5,\n",
       "        \"orient\": \"vertical\",\n",
       "        \"showLabel\": true\n",
       "    }\n",
       "};\n",
       "                chart_a36dac72a4c04e3fa1efd35171a34d78.setOption(option_a36dac72a4c04e3fa1efd35171a34d78);\n",
       "        });\n",
       "    </script>\n"
      ],
      "text/plain": [
       "<pyecharts.render.display.HTML at 0x15fee65f080>"
      ]
     },
     "execution_count": 33,
     "metadata": {},
     "output_type": "execute_result"
    }
   ],
   "source": [
    "from pyecharts import options as opts\n",
    "from pyecharts.charts import Map\n",
    "map = Map()\n",
    "map.add(\"\", list(zip(province_list,price_list)), \"china\")\n",
    "map.set_global_opts(\n",
    "            title_opts=opts.TitleOpts(title=\"十一月份全国猪肉价格分布图\"),\n",
    "            visualmap_opts=opts.VisualMapOpts(max_=55,min_=40,is_piecewise=True),\n",
    "            toolbox_opts=opts.ToolboxOpts(is_show=True)\n",
    "        )\n",
    "map.render_notebook()"
   ]
  },
  {
   "cell_type": "markdown",
   "metadata": {},
   "source": [
    "#### 6.看看全年各省猪肉价格走势"
   ]
  },
  {
   "cell_type": "code",
   "execution_count": 34,
   "metadata": {},
   "outputs": [],
   "source": [
    "month_province_price = pork.pivot_table(index='province',columns='month',values='price',aggfunc='mean')\n",
    "#month_province_price"
   ]
  },
  {
   "cell_type": "code",
   "execution_count": 35,
   "metadata": {},
   "outputs": [
    {
     "data": {
      "image/png": "[encoded data removed]",
      "text/plain": [
       "<Figure size 1080x720 with 2 Axes>"
      ]
     },
     "metadata": {},
     "output_type": "display_data"
    }
   ],
   "source": [
    "month_province_price = month_province_price.fillna(0)\n",
    "plt.figure(figsize=(15,10))\n",
    "sns.heatmap(month_province_price,annot=True,linewidths=.5)\n",
    "plt.xticks(range(10),['一月','三月','四月','五月','六月','七月','八月','九月','十月','十一月'])\n",
    "plt.title('2019全国各省猪肉价格热力图')\n",
    "plt.savefig('2019全国各省猪肉价格热力图.jpg')"
   ]
  },
  {
   "cell_type": "markdown",
   "metadata": {},
   "source": [
    "### 中国人到底有多爱吃猪肉"
   ]
  },
  {
   "cell_type": "code",
   "execution_count": 36,
   "metadata": {},
   "outputs": [
    {
     "data": {
      "text/html": [
       "<div>\n",
       "<style scoped>\n",
       "    .dataframe tbody tr th:only-of-type {\n",
       "        vertical-align: middle;\n",
       "    }\n",
       "\n",
       "    .dataframe tbody tr th {\n",
       "        vertical-align: top;\n",
       "    }\n",
       "\n",
       "    .dataframe thead th {\n",
       "        text-align: right;\n",
       "    }\n",
       "</style>\n",
       "<table border=\"1\" class=\"dataframe\">\n",
       "  <thead>\n",
       "    <tr style=\"text-align: right;\">\n",
       "      <th></th>\n",
       "      <th>rank</th>\n",
       "      <th>country</th>\n",
       "      <th>2018</th>\n",
       "      <th>2017</th>\n",
       "      <th>2016</th>\n",
       "      <th>2015</th>\n",
       "      <th>2014</th>\n",
       "      <th>2013</th>\n",
       "      <th>2012</th>\n",
       "      <th>2011</th>\n",
       "      <th>2010</th>\n",
       "    </tr>\n",
       "  </thead>\n",
       "  <tbody>\n",
       "    <tr>\n",
       "      <th>0</th>\n",
       "      <td>1</td>\n",
       "      <td>中国</td>\n",
       "      <td>54,040</td>\n",
       "      <td>54,518</td>\n",
       "      <td>54,255</td>\n",
       "      <td>56,454</td>\n",
       "      <td>58,208</td>\n",
       "      <td>56,183</td>\n",
       "      <td>54,435</td>\n",
       "      <td>51,316</td>\n",
       "      <td>51,384</td>\n",
       "    </tr>\n",
       "    <tr>\n",
       "      <th>1</th>\n",
       "      <td>2</td>\n",
       "      <td>美利坚合众国</td>\n",
       "      <td>11,943</td>\n",
       "      <td>11,611</td>\n",
       "      <td>11,320</td>\n",
       "      <td>11,121</td>\n",
       "      <td>10,368</td>\n",
       "      <td>10,525</td>\n",
       "      <td>10,554</td>\n",
       "      <td>10,331</td>\n",
       "      <td>10,186</td>\n",
       "    </tr>\n",
       "    <tr>\n",
       "      <th>2</th>\n",
       "      <td>3</td>\n",
       "      <td>巴西</td>\n",
       "      <td>3,763</td>\n",
       "      <td>3,725</td>\n",
       "      <td>3,700</td>\n",
       "      <td>3,519</td>\n",
       "      <td>3,400</td>\n",
       "      <td>3,335</td>\n",
       "      <td>3,330</td>\n",
       "      <td>3,227</td>\n",
       "      <td>3,195</td>\n",
       "    </tr>\n",
       "    <tr>\n",
       "      <th>3</th>\n",
       "      <td>4</td>\n",
       "      <td>俄罗斯联邦</td>\n",
       "      <td>3,155</td>\n",
       "      <td>2,959</td>\n",
       "      <td>2,820</td>\n",
       "      <td>2,589</td>\n",
       "      <td>2,484</td>\n",
       "      <td>2,394</td>\n",
       "      <td>2,179</td>\n",
       "      <td>2,069</td>\n",
       "      <td>1,987</td>\n",
       "    </tr>\n",
       "    <tr>\n",
       "      <th>4</th>\n",
       "      <td>5</td>\n",
       "      <td>越南</td>\n",
       "      <td>2,811</td>\n",
       "      <td>2,741</td>\n",
       "      <td>2,701</td>\n",
       "      <td>2,548</td>\n",
       "      <td>2,431</td>\n",
       "      <td>2,357</td>\n",
       "      <td>2,307</td>\n",
       "      <td>2,262</td>\n",
       "      <td>2,217</td>\n",
       "    </tr>\n",
       "  </tbody>\n",
       "</table>\n",
       "</div>"
      ],
      "text/plain": [
       "   rank country    2018    2017    2016    2015    2014    2013    2012  \\\n",
       "0     1      中国  54,040  54,518  54,255  56,454  58,208  56,183  54,435   \n",
       "1     2  美利坚合众国  11,943  11,611  11,320  11,121  10,368  10,525  10,554   \n",
       "2     3      巴西   3,763   3,725   3,700   3,519   3,400   3,335   3,330   \n",
       "3     4   俄罗斯联邦   3,155   2,959   2,820   2,589   2,484   2,394   2,179   \n",
       "4     5      越南   2,811   2,741   2,701   2,548   2,431   2,357   2,307   \n",
       "\n",
       "     2011    2010  \n",
       "0  51,316  51,384  \n",
       "1  10,331  10,186  \n",
       "2   3,227   3,195  \n",
       "3   2,069   1,987  \n",
       "4   2,262   2,217  "
      ]
     },
     "execution_count": 36,
     "metadata": {},
     "output_type": "execute_result"
    }
   ],
   "source": [
    "# 读入全球猪肉产量数据\n",
    "pork_yield = pd.read_csv('E:/datas/pork_yield.csv')\n",
    "pork_yield.head()"
   ]
  },
  {
   "cell_type": "code",
   "execution_count": 38,
   "metadata": {},
   "outputs": [],
   "source": [
    "# 将产量转化为int类型\n",
    "for i in range(2010,2019):\n",
    "    pork_yield[str(i)] = pork_yield[str(i)].str.replace(',','').astype('int64')"
   ]
  },
  {
   "cell_type": "markdown",
   "metadata": {},
   "source": [
    "#### 1.看看全世界2018年猪肉产量"
   ]
  },
  {
   "cell_type": "code",
   "execution_count": 39,
   "metadata": {},
   "outputs": [
    {
     "data": {
      "text/html": [
       "<div>\n",
       "<style scoped>\n",
       "    .dataframe tbody tr th:only-of-type {\n",
       "        vertical-align: middle;\n",
       "    }\n",
       "\n",
       "    .dataframe tbody tr th {\n",
       "        vertical-align: top;\n",
       "    }\n",
       "\n",
       "    .dataframe thead th {\n",
       "        text-align: right;\n",
       "    }\n",
       "</style>\n",
       "<table border=\"1\" class=\"dataframe\">\n",
       "  <thead>\n",
       "    <tr style=\"text-align: right;\">\n",
       "      <th></th>\n",
       "      <th>country</th>\n",
       "      <th>2018</th>\n",
       "    </tr>\n",
       "  </thead>\n",
       "  <tbody>\n",
       "    <tr>\n",
       "      <th>9</th>\n",
       "      <td>日本</td>\n",
       "      <td>1284</td>\n",
       "    </tr>\n",
       "    <tr>\n",
       "      <th>8</th>\n",
       "      <td>墨西哥</td>\n",
       "      <td>1321</td>\n",
       "    </tr>\n",
       "    <tr>\n",
       "      <th>7</th>\n",
       "      <td>大韩民国</td>\n",
       "      <td>1329</td>\n",
       "    </tr>\n",
       "    <tr>\n",
       "      <th>6</th>\n",
       "      <td>菲律宾</td>\n",
       "      <td>1601</td>\n",
       "    </tr>\n",
       "    <tr>\n",
       "      <th>5</th>\n",
       "      <td>加拿大</td>\n",
       "      <td>1955</td>\n",
       "    </tr>\n",
       "    <tr>\n",
       "      <th>4</th>\n",
       "      <td>越南</td>\n",
       "      <td>2811</td>\n",
       "    </tr>\n",
       "    <tr>\n",
       "      <th>3</th>\n",
       "      <td>俄罗斯联邦</td>\n",
       "      <td>3155</td>\n",
       "    </tr>\n",
       "    <tr>\n",
       "      <th>2</th>\n",
       "      <td>巴西</td>\n",
       "      <td>3763</td>\n",
       "    </tr>\n",
       "    <tr>\n",
       "      <th>1</th>\n",
       "      <td>美利坚合众国</td>\n",
       "      <td>11943</td>\n",
       "    </tr>\n",
       "    <tr>\n",
       "      <th>0</th>\n",
       "      <td>中国</td>\n",
       "      <td>54040</td>\n",
       "    </tr>\n",
       "  </tbody>\n",
       "</table>\n",
       "</div>"
      ],
      "text/plain": [
       "  country   2018\n",
       "9      日本   1284\n",
       "8     墨西哥   1321\n",
       "7    大韩民国   1329\n",
       "6     菲律宾   1601\n",
       "5     加拿大   1955\n",
       "4      越南   2811\n",
       "3   俄罗斯联邦   3155\n",
       "2      巴西   3763\n",
       "1  美利坚合众国  11943\n",
       "0      中国  54040"
      ]
     },
     "execution_count": 39,
     "metadata": {},
     "output_type": "execute_result"
    }
   ],
   "source": [
    "pork_yield_2018 = pork_yield[['country','2018']].sort_values('2018')\n",
    "pork_yield_2018"
   ]
  },
  {
   "cell_type": "code",
   "execution_count": 40,
   "metadata": {},
   "outputs": [
    {
     "data": {
      "image/png": "[encoded data removed]",
      "text/plain": [
       "<Figure size 432x288 with 1 Axes>"
      ]
     },
     "metadata": {},
     "output_type": "display_data"
    }
   ],
   "source": [
    "plt.barh(range(len(pork_yield_2018)),pork_yield_2018['2018'])\n",
    "plt.yticks(range(len(pork_yield_2018)),pork_yield_2018['country'].tolist())\n",
    "plt.xlabel('产量:千吨')\n",
    "plt.ylabel('国家')\n",
    "plt.title('2018年全球猪肉产量TOP10国家')\n",
    "plt.savefig('2018年全球猪肉产量TOP10国家.jpg')"
   ]
  },
  {
   "cell_type": "markdown",
   "metadata": {},
   "source": [
    "#### 2.中国近年来猪肉产量"
   ]
  },
  {
   "cell_type": "code",
   "execution_count": 41,
   "metadata": {},
   "outputs": [
    {
     "data": {
      "text/plain": [
       "2010    51384\n",
       "2011    51316\n",
       "2012    54435\n",
       "2013    56183\n",
       "2014    58208\n",
       "2015    56454\n",
       "2016    54255\n",
       "2017    54518\n",
       "2018    54040\n",
       "Name: 0, dtype: object"
      ]
     },
     "execution_count": 41,
     "metadata": {},
     "output_type": "execute_result"
    }
   ],
   "source": [
    "# 中国近年来猪肉产量\n",
    "c = pork_yield.iloc[0][2:].sort_index()\n",
    "c"
   ]
  },
  {
   "cell_type": "code",
   "execution_count": 42,
   "metadata": {},
   "outputs": [
    {
     "data": {
      "image/png": "[encoded data removed]",
      "text/plain": [
       "<Figure size 432x288 with 1 Axes>"
      ]
     },
     "metadata": {},
     "output_type": "display_data"
    }
   ],
   "source": [
    "plt.bar(c.index,c.values)\n",
    "plt.xlabel('年份')\n",
    "plt.ylabel('产量:千吨')\n",
    "plt.title('近年来中国猪肉年产量')\n",
    "plt.savefig('近年来中国猪肉年产量.jpg')"
   ]
  },
  {
   "cell_type": "markdown",
   "metadata": {},
   "source": [
    "- 近年来中国猪肉产量在50000千吨，也就是5000万吨之上\n",
    "- 按照平均每头猪产70kg猪肉来算，整整7亿头猪\n",
    "- 中国14亿人口，每两个人就有一头猪\n",
    "- 中央投放的1万吨猪肉也就勉强够中国人吃一顿午饭"
   ]
  },
  {
   "cell_type": "code",
   "execution_count": 43,
   "metadata": {},
   "outputs": [],
   "source": [
    "# 这仅仅是国内猪肉产量，中国每年还向国外进口大量猪肉"
   ]
  },
  {
   "cell_type": "markdown",
   "metadata": {},
   "source": [
    "#### 3.中国近年来猪肉进出口量"
   ]
  },
  {
   "cell_type": "code",
   "execution_count": 44,
   "metadata": {},
   "outputs": [
    {
     "data": {
      "text/html": [
       "<div>\n",
       "<style scoped>\n",
       "    .dataframe tbody tr th:only-of-type {\n",
       "        vertical-align: middle;\n",
       "    }\n",
       "\n",
       "    .dataframe tbody tr th {\n",
       "        vertical-align: top;\n",
       "    }\n",
       "\n",
       "    .dataframe thead th {\n",
       "        text-align: right;\n",
       "    }\n",
       "</style>\n",
       "<table border=\"1\" class=\"dataframe\">\n",
       "  <thead>\n",
       "    <tr style=\"text-align: right;\">\n",
       "      <th></th>\n",
       "      <th>rank</th>\n",
       "      <th>country</th>\n",
       "      <th>2018</th>\n",
       "      <th>2017</th>\n",
       "      <th>2016</th>\n",
       "      <th>2015</th>\n",
       "      <th>2014</th>\n",
       "      <th>2013</th>\n",
       "      <th>2012</th>\n",
       "      <th>2011</th>\n",
       "      <th>2010</th>\n",
       "    </tr>\n",
       "  </thead>\n",
       "  <tbody>\n",
       "    <tr>\n",
       "      <th>0</th>\n",
       "      <td>1</td>\n",
       "      <td>中国</td>\n",
       "      <td>1,561</td>\n",
       "      <td>1,620</td>\n",
       "      <td>2,181</td>\n",
       "      <td>1,029</td>\n",
       "      <td>761</td>\n",
       "      <td>770</td>\n",
       "      <td>730</td>\n",
       "      <td>758</td>\n",
       "      <td>415</td>\n",
       "    </tr>\n",
       "    <tr>\n",
       "      <th>1</th>\n",
       "      <td>2</td>\n",
       "      <td>日本</td>\n",
       "      <td>1,481</td>\n",
       "      <td>1,475</td>\n",
       "      <td>1,361</td>\n",
       "      <td>1,270</td>\n",
       "      <td>1,332</td>\n",
       "      <td>1,223</td>\n",
       "      <td>1,259</td>\n",
       "      <td>1,254</td>\n",
       "      <td>1,198</td>\n",
       "    </tr>\n",
       "    <tr>\n",
       "      <th>2</th>\n",
       "      <td>3</td>\n",
       "      <td>墨西哥</td>\n",
       "      <td>1,188</td>\n",
       "      <td>1,083</td>\n",
       "      <td>1,021</td>\n",
       "      <td>981</td>\n",
       "      <td>818</td>\n",
       "      <td>783</td>\n",
       "      <td>706</td>\n",
       "      <td>594</td>\n",
       "      <td>687</td>\n",
       "    </tr>\n",
       "    <tr>\n",
       "      <th>3</th>\n",
       "      <td>4</td>\n",
       "      <td>大韩民国</td>\n",
       "      <td>753</td>\n",
       "      <td>645</td>\n",
       "      <td>615</td>\n",
       "      <td>599</td>\n",
       "      <td>480</td>\n",
       "      <td>388</td>\n",
       "      <td>502</td>\n",
       "      <td>640</td>\n",
       "      <td>382</td>\n",
       "    </tr>\n",
       "    <tr>\n",
       "      <th>4</th>\n",
       "      <td>5</td>\n",
       "      <td>美利坚合众国</td>\n",
       "      <td>473</td>\n",
       "      <td>506</td>\n",
       "      <td>495</td>\n",
       "      <td>506</td>\n",
       "      <td>459</td>\n",
       "      <td>399</td>\n",
       "      <td>364</td>\n",
       "      <td>364</td>\n",
       "      <td>390</td>\n",
       "    </tr>\n",
       "  </tbody>\n",
       "</table>\n",
       "</div>"
      ],
      "text/plain": [
       "   rank country   2018   2017   2016   2015   2014   2013   2012   2011   2010\n",
       "0     1      中国  1,561  1,620  2,181  1,029    761    770    730    758    415\n",
       "1     2      日本  1,481  1,475  1,361  1,270  1,332  1,223  1,259  1,254  1,198\n",
       "2     3     墨西哥  1,188  1,083  1,021    981    818    783    706    594    687\n",
       "3     4    大韩民国    753    645    615    599    480    388    502    640    382\n",
       "4     5  美利坚合众国    473    506    495    506    459    399    364    364    390"
      ]
     },
     "execution_count": 44,
     "metadata": {},
     "output_type": "execute_result"
    }
   ],
   "source": [
    "# 读入今年来中国猪肉进口数据\n",
    "pork_import = pd.read_csv('E:/datas/pork_import.csv')\n",
    "pork_import.head()"
   ]
  },
  {
   "cell_type": "code",
   "execution_count": 45,
   "metadata": {},
   "outputs": [],
   "source": [
    "# 同样将数值转化为int类型\n",
    "for i in range(2010,2019):\n",
    "    pork_import[str(i)] = pork_import[str(i)].str.replace(',','').astype('int64')"
   ]
  },
  {
   "cell_type": "code",
   "execution_count": 46,
   "metadata": {},
   "outputs": [
    {
     "data": {
      "text/html": [
       "<div>\n",
       "<style scoped>\n",
       "    .dataframe tbody tr th:only-of-type {\n",
       "        vertical-align: middle;\n",
       "    }\n",
       "\n",
       "    .dataframe tbody tr th {\n",
       "        vertical-align: top;\n",
       "    }\n",
       "\n",
       "    .dataframe thead th {\n",
       "        text-align: right;\n",
       "    }\n",
       "</style>\n",
       "<table border=\"1\" class=\"dataframe\">\n",
       "  <thead>\n",
       "    <tr style=\"text-align: right;\">\n",
       "      <th></th>\n",
       "      <th>rank</th>\n",
       "      <th>country</th>\n",
       "      <th>2018</th>\n",
       "      <th>2017</th>\n",
       "      <th>2016</th>\n",
       "      <th>2015</th>\n",
       "      <th>2014</th>\n",
       "      <th>2013</th>\n",
       "      <th>2012</th>\n",
       "      <th>2011</th>\n",
       "      <th>2010</th>\n",
       "    </tr>\n",
       "  </thead>\n",
       "  <tbody>\n",
       "    <tr>\n",
       "      <th>0</th>\n",
       "      <td>1</td>\n",
       "      <td>美利坚合众国</td>\n",
       "      <td>2,665</td>\n",
       "      <td>2,555</td>\n",
       "      <td>2,376</td>\n",
       "      <td>2,272</td>\n",
       "      <td>2,310</td>\n",
       "      <td>2,262</td>\n",
       "      <td>2,440</td>\n",
       "      <td>2,357</td>\n",
       "      <td>1,915</td>\n",
       "    </tr>\n",
       "    <tr>\n",
       "      <th>1</th>\n",
       "      <td>2</td>\n",
       "      <td>加拿大</td>\n",
       "      <td>1,331</td>\n",
       "      <td>1,351</td>\n",
       "      <td>1,329</td>\n",
       "      <td>1,239</td>\n",
       "      <td>1,220</td>\n",
       "      <td>1,246</td>\n",
       "      <td>1,243</td>\n",
       "      <td>1,197</td>\n",
       "      <td>1,159</td>\n",
       "    </tr>\n",
       "    <tr>\n",
       "      <th>2</th>\n",
       "      <td>3</td>\n",
       "      <td>巴西</td>\n",
       "      <td>730</td>\n",
       "      <td>786</td>\n",
       "      <td>832</td>\n",
       "      <td>627</td>\n",
       "      <td>556</td>\n",
       "      <td>585</td>\n",
       "      <td>660</td>\n",
       "      <td>583</td>\n",
       "      <td>618</td>\n",
       "    </tr>\n",
       "    <tr>\n",
       "      <th>3</th>\n",
       "      <td>4</td>\n",
       "      <td>中国</td>\n",
       "      <td>203</td>\n",
       "      <td>208</td>\n",
       "      <td>191</td>\n",
       "      <td>231</td>\n",
       "      <td>277</td>\n",
       "      <td>244</td>\n",
       "      <td>235</td>\n",
       "      <td>244</td>\n",
       "      <td>278</td>\n",
       "    </tr>\n",
       "    <tr>\n",
       "      <th>4</th>\n",
       "      <td>5</td>\n",
       "      <td>智利</td>\n",
       "      <td>200</td>\n",
       "      <td>171</td>\n",
       "      <td>173</td>\n",
       "      <td>178</td>\n",
       "      <td>163</td>\n",
       "      <td>164</td>\n",
       "      <td>180</td>\n",
       "      <td>139</td>\n",
       "      <td>130</td>\n",
       "    </tr>\n",
       "  </tbody>\n",
       "</table>\n",
       "</div>"
      ],
      "text/plain": [
       "   rank country   2018   2017   2016   2015   2014   2013   2012   2011   2010\n",
       "0     1  美利坚合众国  2,665  2,555  2,376  2,272  2,310  2,262  2,440  2,357  1,915\n",
       "1     2     加拿大  1,331  1,351  1,329  1,239  1,220  1,246  1,243  1,197  1,159\n",
       "2     3      巴西    730    786    832    627    556    585    660    583    618\n",
       "3     4      中国    203    208    191    231    277    244    235    244    278\n",
       "4     5      智利    200    171    173    178    163    164    180    139    130"
      ]
     },
     "execution_count": 46,
     "metadata": {},
     "output_type": "execute_result"
    }
   ],
   "source": [
    "# 猪肉出口\n",
    "pork_export = pd.read_csv('E:/datas/pork_export.csv')\n",
    "pork_export.head()"
   ]
  },
  {
   "cell_type": "code",
   "execution_count": 47,
   "metadata": {},
   "outputs": [],
   "source": [
    "for i in range(2010,2019):\n",
    "    pork_export[str(i)] = pork_export[str(i)].str.replace(',','').astype('int64')"
   ]
  },
  {
   "cell_type": "code",
   "execution_count": 48,
   "metadata": {},
   "outputs": [
    {
     "data": {
      "text/html": [
       "<div>\n",
       "<style scoped>\n",
       "    .dataframe tbody tr th:only-of-type {\n",
       "        vertical-align: middle;\n",
       "    }\n",
       "\n",
       "    .dataframe tbody tr th {\n",
       "        vertical-align: top;\n",
       "    }\n",
       "\n",
       "    .dataframe thead th {\n",
       "        text-align: right;\n",
       "    }\n",
       "</style>\n",
       "<table border=\"1\" class=\"dataframe\">\n",
       "  <thead>\n",
       "    <tr style=\"text-align: right;\">\n",
       "      <th></th>\n",
       "      <th>country</th>\n",
       "      <th>2018</th>\n",
       "    </tr>\n",
       "  </thead>\n",
       "  <tbody>\n",
       "    <tr>\n",
       "      <th>9</th>\n",
       "      <td>哥伦比亚</td>\n",
       "      <td>129</td>\n",
       "    </tr>\n",
       "    <tr>\n",
       "      <th>8</th>\n",
       "      <td>澳大利亚</td>\n",
       "      <td>216</td>\n",
       "    </tr>\n",
       "    <tr>\n",
       "      <th>7</th>\n",
       "      <td>加拿大</td>\n",
       "      <td>233</td>\n",
       "    </tr>\n",
       "    <tr>\n",
       "      <th>6</th>\n",
       "      <td>菲律宾</td>\n",
       "      <td>286</td>\n",
       "    </tr>\n",
       "    <tr>\n",
       "      <th>5</th>\n",
       "      <td>香港</td>\n",
       "      <td>423</td>\n",
       "    </tr>\n",
       "    <tr>\n",
       "      <th>4</th>\n",
       "      <td>美利坚合众国</td>\n",
       "      <td>473</td>\n",
       "    </tr>\n",
       "    <tr>\n",
       "      <th>3</th>\n",
       "      <td>大韩民国</td>\n",
       "      <td>753</td>\n",
       "    </tr>\n",
       "    <tr>\n",
       "      <th>2</th>\n",
       "      <td>墨西哥</td>\n",
       "      <td>1188</td>\n",
       "    </tr>\n",
       "    <tr>\n",
       "      <th>1</th>\n",
       "      <td>日本</td>\n",
       "      <td>1481</td>\n",
       "    </tr>\n",
       "    <tr>\n",
       "      <th>0</th>\n",
       "      <td>中国</td>\n",
       "      <td>1561</td>\n",
       "    </tr>\n",
       "  </tbody>\n",
       "</table>\n",
       "</div>"
      ],
      "text/plain": [
       "  country  2018\n",
       "9    哥伦比亚   129\n",
       "8    澳大利亚   216\n",
       "7     加拿大   233\n",
       "6     菲律宾   286\n",
       "5      香港   423\n",
       "4  美利坚合众国   473\n",
       "3    大韩民国   753\n",
       "2     墨西哥  1188\n",
       "1      日本  1481\n",
       "0      中国  1561"
      ]
     },
     "execution_count": 48,
     "metadata": {},
     "output_type": "execute_result"
    }
   ],
   "source": [
    "# 2018世界猪肉进口top10\n",
    "pork_import_2018 = pork_import[['country','2018']].sort_values('2018')\n",
    "pork_import_2018"
   ]
  },
  {
   "cell_type": "code",
   "execution_count": 49,
   "metadata": {},
   "outputs": [
    {
     "data": {
      "image/png": "[encoded data removed]",
      "text/plain": [
       "<Figure size 432x288 with 1 Axes>"
      ]
     },
     "metadata": {},
     "output_type": "display_data"
    }
   ],
   "source": [
    "plt.barh(range(len(pork_import_2018)),pork_import_2018['2018'])\n",
    "plt.yticks(range(len(pork_import_2018)),pork_import_2018['country'].tolist())\n",
    "plt.xlabel('产量:千吨')\n",
    "plt.ylabel('国家')\n",
    "plt.title('2018年全球猪肉进口量TOP10国家')\n",
    "plt.savefig('2018年全球猪肉进口量TOP10国家.jpg')"
   ]
  },
  {
   "cell_type": "code",
   "execution_count": 50,
   "metadata": {},
   "outputs": [],
   "source": [
    "# 2010-2018中国猪肉进出口量对比\n",
    "im_10_18 = pork_import.iloc[0][2:].sort_index()\n",
    "ex_10_18 = pork_export.iloc[3][2:].sort_index()"
   ]
  },
  {
   "cell_type": "code",
   "execution_count": 51,
   "metadata": {},
   "outputs": [
    {
     "data": {
      "image/png": "[encoded data removed]",
      "text/plain": [
       "<Figure size 432x288 with 1 Axes>"
      ]
     },
     "metadata": {},
     "output_type": "display_data"
    }
   ],
   "source": [
    "plt.bar(ex_10_18.index,ex_10_18.values,label='出口量')\n",
    "plt.plot(im_10_18.index,im_10_18.values,label='进口量')\n",
    "plt.title('2010-2018中国猪肉进出口量')\n",
    "plt.xlabel('年份')\n",
    "plt.ylabel('数量:千吨')\n",
    "plt.legend()\n",
    "plt.savefig('2010-2018中国猪肉进出口量.jpg')"
   ]
  },
  {
   "cell_type": "markdown",
   "metadata": {},
   "source": [
    "#### 4.中国年人均肉类消费量"
   ]
  },
  {
   "cell_type": "code",
   "execution_count": 52,
   "metadata": {},
   "outputs": [
    {
     "data": {
      "text/html": [
       "<div>\n",
       "<style scoped>\n",
       "    .dataframe tbody tr th:only-of-type {\n",
       "        vertical-align: middle;\n",
       "    }\n",
       "\n",
       "    .dataframe tbody tr th {\n",
       "        vertical-align: top;\n",
       "    }\n",
       "\n",
       "    .dataframe thead th {\n",
       "        text-align: right;\n",
       "    }\n",
       "</style>\n",
       "<table border=\"1\" class=\"dataframe\">\n",
       "  <thead>\n",
       "    <tr style=\"text-align: right;\">\n",
       "      <th></th>\n",
       "      <th>2013</th>\n",
       "      <th>2014</th>\n",
       "      <th>2015</th>\n",
       "      <th>2016</th>\n",
       "      <th>2017</th>\n",
       "    </tr>\n",
       "  </thead>\n",
       "  <tbody>\n",
       "    <tr>\n",
       "      <th>猪肉</th>\n",
       "      <td>19.8</td>\n",
       "      <td>20.0</td>\n",
       "      <td>20.1</td>\n",
       "      <td>19.6</td>\n",
       "      <td>20.1</td>\n",
       "    </tr>\n",
       "    <tr>\n",
       "      <th>牛肉</th>\n",
       "      <td>1.5</td>\n",
       "      <td>1.5</td>\n",
       "      <td>1.6</td>\n",
       "      <td>1.8</td>\n",
       "      <td>1.9</td>\n",
       "    </tr>\n",
       "    <tr>\n",
       "      <th>羊肉</th>\n",
       "      <td>0.9</td>\n",
       "      <td>1.0</td>\n",
       "      <td>1.2</td>\n",
       "      <td>1.5</td>\n",
       "      <td>1.3</td>\n",
       "    </tr>\n",
       "    <tr>\n",
       "      <th>禽类</th>\n",
       "      <td>7.2</td>\n",
       "      <td>8.0</td>\n",
       "      <td>8.4</td>\n",
       "      <td>9.1</td>\n",
       "      <td>8.9</td>\n",
       "    </tr>\n",
       "  </tbody>\n",
       "</table>\n",
       "</div>"
      ],
      "text/plain": [
       "    2013  2014  2015  2016  2017\n",
       "猪肉  19.8  20.0  20.1  19.6  20.1\n",
       "牛肉   1.5   1.5   1.6   1.8   1.9\n",
       "羊肉   0.9   1.0   1.2   1.5   1.3\n",
       "禽类   7.2   8.0   8.4   9.1   8.9"
      ]
     },
     "execution_count": 52,
     "metadata": {},
     "output_type": "execute_result"
    }
   ],
   "source": [
    "meat_year = pd.DataFrame([[19.8,20.0,20.1,19.6,20.1],[1.5,1.5,1.6,1.8,1.9],[0.9,1.0,1.2,1.5,1.3],[7.2,8.0,8.4,9.1,8.9]],\n",
    "                         index=['猪肉','牛肉','羊肉','禽类'],\n",
    "                        columns=['2013','2014','2015','2016','2017'])\n",
    "meat_year"
   ]
  },
  {
   "cell_type": "code",
   "execution_count": 53,
   "metadata": {},
   "outputs": [
    {
     "data": {
      "text/html": [
       "\n",
       "<script>\n",
       "    require.config({\n",
       "        paths: {\n",
       "            'echarts':'https://assets.pyecharts.org/assets/echarts.min'\n",
       "        }\n",
       "    });\n",
       "</script>\n",
       "\n",
       "        <div id=\"983d292f25f4411ab20454c22bf9619d\" style=\"width:900px; height:500px;\"></div>\n",
       "\n",
       "<script>\n",
       "        require(['echarts'], function(echarts) {\n",
       "                var chart_983d292f25f4411ab20454c22bf9619d = echarts.init(\n",
       "                    document.getElementById('983d292f25f4411ab20454c22bf9619d'), 'white', {renderer: 'canvas'});\n",
       "                var option_983d292f25f4411ab20454c22bf9619d = {\n",
       "    \"animation\": true,\n",
       "    \"animationThreshold\": 2000,\n",
       "    \"animationDuration\": 1000,\n",
       "    \"animationEasing\": \"cubicOut\",\n",
       "    \"animationDelay\": 0,\n",
       "    \"animationDurationUpdate\": 300,\n",
       "    \"animationEasingUpdate\": \"cubicOut\",\n",
       "    \"animationDelayUpdate\": 0,\n",
       "    \"color\": [\n",
       "        \"#c23531\",\n",
       "        \"#2f4554\",\n",
       "        \"#61a0a8\",\n",
       "        \"#d48265\",\n",
       "        \"#749f83\",\n",
       "        \"#ca8622\",\n",
       "        \"#bda29a\",\n",
       "        \"#6e7074\",\n",
       "        \"#546570\",\n",
       "        \"#c4ccd3\",\n",
       "        \"#f05b72\",\n",
       "        \"#ef5b9c\",\n",
       "        \"#f47920\",\n",
       "        \"#905a3d\",\n",
       "        \"#fab27b\",\n",
       "        \"#2a5caa\",\n",
       "        \"#444693\",\n",
       "        \"#726930\",\n",
       "        \"#b2d235\",\n",
       "        \"#6d8346\",\n",
       "        \"#ac6767\",\n",
       "        \"#1d953f\",\n",
       "        \"#6950a1\",\n",
       "        \"#918597\"\n",
       "    ],\n",
       "    \"series\": [\n",
       "        {\n",
       "            \"type\": \"bar\",\n",
       "            \"name\": \"\\u732a\\u8089\",\n",
       "            \"data\": [\n",
       "                19.8,\n",
       "                20.0,\n",
       "                20.1,\n",
       "                19.6,\n",
       "                20.1\n",
       "            ],\n",
       "            \"barCategoryGap\": \"20%\",\n",
       "            \"label\": {\n",
       "                \"show\": true,\n",
       "                \"position\": \"top\",\n",
       "                \"margin\": 8\n",
       "            }\n",
       "        },\n",
       "        {\n",
       "            \"type\": \"bar\",\n",
       "            \"name\": \"\\u725b\\u8089\",\n",
       "            \"data\": [\n",
       "                1.5,\n",
       "                1.5,\n",
       "                1.6,\n",
       "                1.8,\n",
       "                1.9\n",
       "            ],\n",
       "            \"barCategoryGap\": \"20%\",\n",
       "            \"label\": {\n",
       "                \"show\": true,\n",
       "                \"position\": \"top\",\n",
       "                \"margin\": 8\n",
       "            }\n",
       "        },\n",
       "        {\n",
       "            \"type\": \"bar\",\n",
       "            \"name\": \"\\u7f8a\\u8089\",\n",
       "            \"data\": [\n",
       "                0.9,\n",
       "                1.0,\n",
       "                1.2,\n",
       "                1.5,\n",
       "                1.3\n",
       "            ],\n",
       "            \"barCategoryGap\": \"20%\",\n",
       "            \"label\": {\n",
       "                \"show\": true,\n",
       "                \"position\": \"top\",\n",
       "                \"margin\": 8\n",
       "            }\n",
       "        },\n",
       "        {\n",
       "            \"type\": \"bar\",\n",
       "            \"name\": \"\\u79bd\\u7c7b\",\n",
       "            \"data\": [\n",
       "                7.2,\n",
       "                8.0,\n",
       "                8.4,\n",
       "                9.1,\n",
       "                8.9\n",
       "            ],\n",
       "            \"barCategoryGap\": \"20%\",\n",
       "            \"label\": {\n",
       "                \"show\": true,\n",
       "                \"position\": \"top\",\n",
       "                \"margin\": 8\n",
       "            }\n",
       "        }\n",
       "    ],\n",
       "    \"legend\": [\n",
       "        {\n",
       "            \"data\": [\n",
       "                \"\\u732a\\u8089\",\n",
       "                \"\\u725b\\u8089\",\n",
       "                \"\\u7f8a\\u8089\",\n",
       "                \"\\u79bd\\u7c7b\"\n",
       "            ],\n",
       "            \"selected\": {\n",
       "                \"\\u732a\\u8089\": true,\n",
       "                \"\\u725b\\u8089\": true,\n",
       "                \"\\u7f8a\\u8089\": true,\n",
       "                \"\\u79bd\\u7c7b\": true\n",
       "            },\n",
       "            \"show\": true\n",
       "        }\n",
       "    ],\n",
       "    \"tooltip\": {\n",
       "        \"show\": true,\n",
       "        \"trigger\": \"item\",\n",
       "        \"triggerOn\": \"mousemove|click\",\n",
       "        \"axisPointer\": {\n",
       "            \"type\": \"line\"\n",
       "        },\n",
       "        \"textStyle\": {\n",
       "            \"fontSize\": 14\n",
       "        },\n",
       "        \"borderWidth\": 0\n",
       "    },\n",
       "    \"xAxis\": [\n",
       "        {\n",
       "            \"show\": true,\n",
       "            \"scale\": false,\n",
       "            \"nameLocation\": \"end\",\n",
       "            \"nameGap\": 15,\n",
       "            \"gridIndex\": 0,\n",
       "            \"inverse\": false,\n",
       "            \"offset\": 0,\n",
       "            \"splitNumber\": 5,\n",
       "            \"minInterval\": 0,\n",
       "            \"splitLine\": {\n",
       "                \"show\": false,\n",
       "                \"lineStyle\": {\n",
       "                    \"width\": 1,\n",
       "                    \"opacity\": 1,\n",
       "                    \"curveness\": 0,\n",
       "                    \"type\": \"solid\"\n",
       "                }\n",
       "            },\n",
       "            \"data\": [\n",
       "                \"2013\",\n",
       "                \"2014\",\n",
       "                \"2015\",\n",
       "                \"2016\",\n",
       "                \"2017\"\n",
       "            ]\n",
       "        }\n",
       "    ],\n",
       "    \"yAxis\": [\n",
       "        {\n",
       "            \"show\": true,\n",
       "            \"scale\": false,\n",
       "            \"nameLocation\": \"end\",\n",
       "            \"nameGap\": 15,\n",
       "            \"gridIndex\": 0,\n",
       "            \"inverse\": false,\n",
       "            \"offset\": 0,\n",
       "            \"splitNumber\": 5,\n",
       "            \"minInterval\": 0,\n",
       "            \"splitLine\": {\n",
       "                \"show\": false,\n",
       "                \"lineStyle\": {\n",
       "                    \"width\": 1,\n",
       "                    \"opacity\": 1,\n",
       "                    \"curveness\": 0,\n",
       "                    \"type\": \"solid\"\n",
       "                }\n",
       "            }\n",
       "        }\n",
       "    ],\n",
       "    \"title\": [\n",
       "        {\n",
       "            \"text\": \"2017\\u5168\\u56fd\\u4eba\\u5747\\u8089\\u7c7b\\u6d88\\u8d39\\u91cf\"\n",
       "        }\n",
       "    ],\n",
       "    \"toolbox\": {\n",
       "        \"show\": true,\n",
       "        \"orient\": \"horizontal\",\n",
       "        \"itemSize\": 15,\n",
       "        \"itemGap\": 10,\n",
       "        \"left\": \"80%\",\n",
       "        \"feature\": {\n",
       "            \"saveAsImage\": {\n",
       "                \"show\": true,\n",
       "                \"title\": \"save as image\",\n",
       "                \"type\": \"png\"\n",
       "            },\n",
       "            \"restore\": {\n",
       "                \"show\": true,\n",
       "                \"title\": \"restore\"\n",
       "            },\n",
       "            \"dataView\": {\n",
       "                \"show\": true,\n",
       "                \"title\": \"data view\",\n",
       "                \"readOnly\": false\n",
       "            },\n",
       "            \"dataZoom\": {\n",
       "                \"show\": true,\n",
       "                \"title\": {\n",
       "                    \"zoom\": \"data zoom\",\n",
       "                    \"back\": \"data zoom restore\"\n",
       "                }\n",
       "            }\n",
       "        }\n",
       "    }\n",
       "};\n",
       "                chart_983d292f25f4411ab20454c22bf9619d.setOption(option_983d292f25f4411ab20454c22bf9619d);\n",
       "        });\n",
       "    </script>\n"
      ],
      "text/plain": [
       "<pyecharts.render.display.HTML at 0x15feee461d0>"
      ]
     },
     "execution_count": 53,
     "metadata": {},
     "output_type": "execute_result"
    }
   ],
   "source": [
    "from pyecharts.charts import Bar\n",
    "bar = Bar()\n",
    "bar.add_xaxis(meat_year.columns.tolist())\n",
    "bar.add_yaxis('猪肉',meat_year.iloc[0,:].tolist())\n",
    "bar.add_yaxis('牛肉',meat_year.iloc[1,:].tolist())\n",
    "bar.add_yaxis('羊肉',meat_year.iloc[2,:].tolist())\n",
    "bar.add_yaxis('禽类',meat_year.iloc[3,:].tolist())\n",
    "bar.set_global_opts(title_opts=opts.TitleOpts(title=\"2017全国人均肉类消费量\"),\n",
    "                   toolbox_opts=opts.ToolboxOpts(is_show=True))\n",
    "bar.render_notebook()"
   ]
  },
  {
   "cell_type": "markdown",
   "metadata": {},
   "source": [
    "#### 供应减少"
   ]
  },
  {
   "cell_type": "markdown",
   "metadata": {},
   "source": [
    "#### 1.今年生猪存栏量与屠宰量"
   ]
  },
  {
   "cell_type": "code",
   "execution_count": 54,
   "metadata": {},
   "outputs": [
    {
     "data": {
      "text/html": [
       "<div>\n",
       "<style scoped>\n",
       "    .dataframe tbody tr th:only-of-type {\n",
       "        vertical-align: middle;\n",
       "    }\n",
       "\n",
       "    .dataframe tbody tr th {\n",
       "        vertical-align: top;\n",
       "    }\n",
       "\n",
       "    .dataframe thead th {\n",
       "        text-align: right;\n",
       "    }\n",
       "</style>\n",
       "<table border=\"1\" class=\"dataframe\">\n",
       "  <thead>\n",
       "    <tr style=\"text-align: right;\">\n",
       "      <th></th>\n",
       "      <th>月份</th>\n",
       "      <th>生猪存栏(同比)</th>\n",
       "      <th>生猪存栏(环比)</th>\n",
       "      <th>能繁母猪存栏(同比)</th>\n",
       "      <th>能繁母猪存栏(环比)</th>\n",
       "    </tr>\n",
       "  </thead>\n",
       "  <tbody>\n",
       "    <tr>\n",
       "      <th>0</th>\n",
       "      <td>2019-1</td>\n",
       "      <td>-5.7</td>\n",
       "      <td>-12.62</td>\n",
       "      <td>-3.56</td>\n",
       "      <td>-14.75</td>\n",
       "    </tr>\n",
       "    <tr>\n",
       "      <th>1</th>\n",
       "      <td>2019-2</td>\n",
       "      <td>-5.4</td>\n",
       "      <td>-16.60</td>\n",
       "      <td>-5.00</td>\n",
       "      <td>-19.10</td>\n",
       "    </tr>\n",
       "    <tr>\n",
       "      <th>2</th>\n",
       "      <td>2019-3</td>\n",
       "      <td>-1.2</td>\n",
       "      <td>-18.80</td>\n",
       "      <td>-2.30</td>\n",
       "      <td>-21.00</td>\n",
       "    </tr>\n",
       "    <tr>\n",
       "      <th>3</th>\n",
       "      <td>2019-4</td>\n",
       "      <td>-2.9</td>\n",
       "      <td>-20.80</td>\n",
       "      <td>-2.50</td>\n",
       "      <td>-22.30</td>\n",
       "    </tr>\n",
       "    <tr>\n",
       "      <th>4</th>\n",
       "      <td>2019-5</td>\n",
       "      <td>-4.2</td>\n",
       "      <td>-22.90</td>\n",
       "      <td>-4.10</td>\n",
       "      <td>-23.90</td>\n",
       "    </tr>\n",
       "    <tr>\n",
       "      <th>5</th>\n",
       "      <td>2019-6</td>\n",
       "      <td>-5.1</td>\n",
       "      <td>-25.80</td>\n",
       "      <td>-5.00</td>\n",
       "      <td>-26.70</td>\n",
       "    </tr>\n",
       "    <tr>\n",
       "      <th>6</th>\n",
       "      <td>2019-7</td>\n",
       "      <td>-9.4</td>\n",
       "      <td>-32.20</td>\n",
       "      <td>-8.90</td>\n",
       "      <td>-31.90</td>\n",
       "    </tr>\n",
       "    <tr>\n",
       "      <th>7</th>\n",
       "      <td>2019-8</td>\n",
       "      <td>-9.8</td>\n",
       "      <td>-38.70</td>\n",
       "      <td>-9.10</td>\n",
       "      <td>-37.40</td>\n",
       "    </tr>\n",
       "    <tr>\n",
       "      <th>8</th>\n",
       "      <td>2019-9</td>\n",
       "      <td>-3.0</td>\n",
       "      <td>-41.10</td>\n",
       "      <td>-2.80</td>\n",
       "      <td>-38.90</td>\n",
       "    </tr>\n",
       "    <tr>\n",
       "      <th>9</th>\n",
       "      <td>2019-10</td>\n",
       "      <td>-0.6</td>\n",
       "      <td>-41.40</td>\n",
       "      <td>0.60</td>\n",
       "      <td>-37.80</td>\n",
       "    </tr>\n",
       "  </tbody>\n",
       "</table>\n",
       "</div>"
      ],
      "text/plain": [
       "        月份  生猪存栏(同比)  生猪存栏(环比)  能繁母猪存栏(同比)  能繁母猪存栏(环比)\n",
       "0   2019-1      -5.7    -12.62       -3.56      -14.75\n",
       "1   2019-2      -5.4    -16.60       -5.00      -19.10\n",
       "2   2019-3      -1.2    -18.80       -2.30      -21.00\n",
       "3   2019-4      -2.9    -20.80       -2.50      -22.30\n",
       "4   2019-5      -4.2    -22.90       -4.10      -23.90\n",
       "5   2019-6      -5.1    -25.80       -5.00      -26.70\n",
       "6   2019-7      -9.4    -32.20       -8.90      -31.90\n",
       "7   2019-8      -9.8    -38.70       -9.10      -37.40\n",
       "8   2019-9      -3.0    -41.10       -2.80      -38.90\n",
       "9  2019-10      -0.6    -41.40        0.60      -37.80"
      ]
     },
     "execution_count": 54,
     "metadata": {},
     "output_type": "execute_result"
    }
   ],
   "source": [
    "# 读入存栏量数据（农业农村部）\n",
    "livestock_pork = pd.read_excel('E:/datas/2019年1-10月生猪存栏量.xlsx',encoding='utf-8')\n",
    "livestock_pork"
   ]
  },
  {
   "cell_type": "code",
   "execution_count": 55,
   "metadata": {},
   "outputs": [
    {
     "data": {
      "image/png": "[encoded data removed]",
      "text/plain": [
       "<Figure size 432x288 with 1 Axes>"
      ]
     },
     "metadata": {},
     "output_type": "display_data"
    }
   ],
   "source": [
    "plt.rcParams['axes.unicode_minus']=False\n",
    "plt.plot(livestock_pork['月份'],livestock_pork['生猪存栏(同比)'],label='同比')\n",
    "plt.plot(livestock_pork['月份'],livestock_pork['生猪存栏(环比)'],label='环比')\n",
    "plt.xlabel('月份')\n",
    "plt.ylabel('数值:百分比')\n",
    "plt.title('2019年1-10月生猪存栏量变化趋势')\n",
    "plt.legend()\n",
    "plt.savefig('2019年1-10月生猪存栏量变化趋势.jpg')"
   ]
  },
  {
   "cell_type": "code",
   "execution_count": 56,
   "metadata": {},
   "outputs": [
    {
     "data": {
      "text/html": [
       "<div>\n",
       "<style scoped>\n",
       "    .dataframe tbody tr th:only-of-type {\n",
       "        vertical-align: middle;\n",
       "    }\n",
       "\n",
       "    .dataframe tbody tr th {\n",
       "        vertical-align: top;\n",
       "    }\n",
       "\n",
       "    .dataframe thead th {\n",
       "        text-align: right;\n",
       "    }\n",
       "</style>\n",
       "<table border=\"1\" class=\"dataframe\">\n",
       "  <thead>\n",
       "    <tr style=\"text-align: right;\">\n",
       "      <th></th>\n",
       "      <th>日期</th>\n",
       "      <th>屠宰量</th>\n",
       "      <th>环比</th>\n",
       "      <th>同比</th>\n",
       "    </tr>\n",
       "  </thead>\n",
       "  <tbody>\n",
       "    <tr>\n",
       "      <th>0</th>\n",
       "      <td>2019-1</td>\n",
       "      <td>2434.01</td>\n",
       "      <td>0.0637</td>\n",
       "      <td>0.0333</td>\n",
       "    </tr>\n",
       "    <tr>\n",
       "      <th>1</th>\n",
       "      <td>2019-2</td>\n",
       "      <td>1292.88</td>\n",
       "      <td>-0.4688</td>\n",
       "      <td>-0.2605</td>\n",
       "    </tr>\n",
       "    <tr>\n",
       "      <th>2</th>\n",
       "      <td>2019-3</td>\n",
       "      <td>1855.72</td>\n",
       "      <td>0.4353</td>\n",
       "      <td>-0.0320</td>\n",
       "    </tr>\n",
       "    <tr>\n",
       "      <th>3</th>\n",
       "      <td>2019-4</td>\n",
       "      <td>1840.63</td>\n",
       "      <td>-0.0081</td>\n",
       "      <td>-0.1302</td>\n",
       "    </tr>\n",
       "    <tr>\n",
       "      <th>4</th>\n",
       "      <td>2019-5</td>\n",
       "      <td>1915.35</td>\n",
       "      <td>0.0406</td>\n",
       "      <td>-0.1034</td>\n",
       "    </tr>\n",
       "    <tr>\n",
       "      <th>5</th>\n",
       "      <td>2019-6</td>\n",
       "      <td>1758.24</td>\n",
       "      <td>-0.0820</td>\n",
       "      <td>-0.1019</td>\n",
       "    </tr>\n",
       "    <tr>\n",
       "      <th>6</th>\n",
       "      <td>2019-7</td>\n",
       "      <td>1730.34</td>\n",
       "      <td>-0.0159</td>\n",
       "      <td>-0.1133</td>\n",
       "    </tr>\n",
       "    <tr>\n",
       "      <th>7</th>\n",
       "      <td>2019-8</td>\n",
       "      <td>1463.36</td>\n",
       "      <td>-0.1543</td>\n",
       "      <td>-0.2560</td>\n",
       "    </tr>\n",
       "    <tr>\n",
       "      <th>8</th>\n",
       "      <td>2019-9</td>\n",
       "      <td>1233.72</td>\n",
       "      <td>-0.1569</td>\n",
       "      <td>-0.3584</td>\n",
       "    </tr>\n",
       "    <tr>\n",
       "      <th>9</th>\n",
       "      <td>2019-10</td>\n",
       "      <td>1053.10</td>\n",
       "      <td>-0.1464</td>\n",
       "      <td>-0.4602</td>\n",
       "    </tr>\n",
       "  </tbody>\n",
       "</table>\n",
       "</div>"
      ],
      "text/plain": [
       "        日期      屠宰量      环比      同比\n",
       "0   2019-1  2434.01  0.0637  0.0333\n",
       "1   2019-2  1292.88 -0.4688 -0.2605\n",
       "2   2019-3  1855.72  0.4353 -0.0320\n",
       "3   2019-4  1840.63 -0.0081 -0.1302\n",
       "4   2019-5  1915.35  0.0406 -0.1034\n",
       "5   2019-6  1758.24 -0.0820 -0.1019\n",
       "6   2019-7  1730.34 -0.0159 -0.1133\n",
       "7   2019-8  1463.36 -0.1543 -0.2560\n",
       "8   2019-9  1233.72 -0.1569 -0.3584\n",
       "9  2019-10  1053.10 -0.1464 -0.4602"
      ]
     },
     "execution_count": 56,
     "metadata": {},
     "output_type": "execute_result"
    }
   ],
   "source": [
    "# 仅仅存栏量少可能说明不了说明问题，也可能是屠宰量大了，那么我们再来看看屠宰量\n",
    "# 读入屠宰量数据（农业农村部）\n",
    "slaughter_pork = pd.read_excel('E:/datas/2019年1-10月生猪屠宰量.xlsx',encoding='utf-8')\n",
    "slaughter_pork"
   ]
  },
  {
   "cell_type": "code",
   "execution_count": 57,
   "metadata": {},
   "outputs": [
    {
     "data": {
      "image/png": "[encoded data removed]",
      "text/plain": [
       "<Figure size 432x288 with 1 Axes>"
      ]
     },
     "metadata": {},
     "output_type": "display_data"
    }
   ],
   "source": [
    "plt.plot(slaughter_pork['日期'],slaughter_pork['同比'],label='同比')\n",
    "plt.plot(slaughter_pork['日期'],slaughter_pork['环比'],label='环比')\n",
    "plt.xlabel('月份')\n",
    "plt.ylabel('数值:百分比')\n",
    "plt.title('2019年1-10月生猪屠宰量变化趋势')\n",
    "plt.legend()\n",
    "plt.savefig('2019年1-10月生猪屠宰量变化趋势.jpg')"
   ]
  },
  {
   "cell_type": "code",
   "execution_count": 58,
   "metadata": {},
   "outputs": [
    {
     "data": {
      "image/png": "[encoded data removed]",
      "text/plain": [
       "<Figure size 432x288 with 1 Axes>"
      ]
     },
     "metadata": {},
     "output_type": "display_data"
    }
   ],
   "source": [
    "# 同样还有一个值得关注的问题是，今年来母猪存栏量一直在减少\n",
    "plt.rcParams['axes.unicode_minus']=False\n",
    "plt.plot(livestock_pork['月份'],livestock_pork['能繁母猪存栏(同比)'],label='同比')\n",
    "plt.plot(livestock_pork['月份'],livestock_pork['能繁母猪存栏(环比)'],label='环比')\n",
    "plt.xlabel('月份')\n",
    "plt.ylabel('数值:百分比')\n",
    "plt.title('2019年1-10月能繁母猪存栏量变化趋势')\n",
    "plt.legend()\n",
    "plt.savefig('2019年1-10月能繁母猪存栏量变化趋势.jpg')"
   ]
  },
  {
   "cell_type": "code",
   "execution_count": 59,
   "metadata": {},
   "outputs": [
    {
     "data": {
      "image/png": "[encoded data removed]",
      "text/plain": [
       "<Figure size 432x288 with 1 Axes>"
      ]
     },
     "metadata": {},
     "output_type": "display_data"
    }
   ],
   "source": [
    "# 有研究显示生产1KG火腿其毛利率在整个产业链分布为 养殖户0.4元-屠宰1.97元-深加工2.32元-流通零售2.18元\n",
    "labels = ['流通零售','深加工','屠宰','养殖户']\n",
    "datas = [2.18,2.32,1.97,0.4]\n",
    "colors = ['#dc2624','#2b4750','#45a0a2','#e87a59']\n",
    "explode = [0,0,0,0.1]\n",
    "plt.pie(datas,labels=labels,explode=explode,colors=colors,autopct='%1.2f%%')\n",
    "plt.axis('equal')\n",
    "plt.title('猪肉产业链各环节利润占比')\n",
    "plt.savefig('猪肉产业链各环节利润占比.jpg')"
   ]
  },
  {
   "cell_type": "code",
   "execution_count": null,
   "metadata": {},
   "outputs": [],
   "source": []
  }
 ],
 "metadata": {
  "kernelspec": {
   "display_name": "Python 3",
   "language": "python",
   "name": "python3"
  },
  "language_info": {
   "codemirror_mode": {
    "name": "ipython",
    "version": 3
   },
   "file_extension": ".py",
   "mimetype": "text/x-python",
   "name": "python",
   "nbconvert_exporter": "python",
   "pygments_lexer": "ipython3",
   "version": "3.6.5"
  }
 },
 "nbformat": 4,
 "nbformat_minor": 2
}
